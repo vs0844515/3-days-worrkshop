{
  "nbformat": 4,
  "nbformat_minor": 0,
  "metadata": {
    "colab": {
      "provenance": []
    },
    "kernelspec": {
      "name": "python3",
      "display_name": "Python 3"
    },
    "language_info": {
      "name": "python"
    }
  },
  "cells": [
    {
      "cell_type": "code",
      "execution_count": 1,
      "metadata": {
        "colab": {
          "base_uri": "https://localhost:8080/"
        },
        "id": "7VCmogzv4Xhg",
        "outputId": "95697e04-718a-4504-ad14-2a2ae71a76e9"
      },
      "outputs": [
        {
          "output_type": "stream",
          "name": "stdout",
          "text": [
            "<class 'list'>\n"
          ]
        }
      ],
      "source": [
        "print(type([]))"
      ]
    },
    {
      "cell_type": "code",
      "source": [
        "class sample:\n",
        "  pass"
      ],
      "metadata": {
        "id": "8eDxQtJ658YW"
      },
      "execution_count": 2,
      "outputs": []
    },
    {
      "cell_type": "code",
      "source": [
        "x = sample()"
      ],
      "metadata": {
        "id": "o3sJHYPI6bm2"
      },
      "execution_count": 3,
      "outputs": []
    },
    {
      "cell_type": "code",
      "source": [
        "print(type(x))"
      ],
      "metadata": {
        "colab": {
          "base_uri": "https://localhost:8080/"
        },
        "id": "9jRGJX5s6t4x",
        "outputId": "51b60842-8451-4de6-8f29-4d07bf1b4ab1"
      },
      "execution_count": 4,
      "outputs": [
        {
          "output_type": "stream",
          "name": "stdout",
          "text": [
            "<class '__main__.sample'>\n"
          ]
        }
      ]
    },
    {
      "cell_type": "code",
      "source": [
        "class Dog:\n",
        "  def __init__(self, breed):\n",
        "    self.breed = breed"
      ],
      "metadata": {
        "id": "PEnP4kL66xmq"
      },
      "execution_count": 5,
      "outputs": []
    },
    {
      "cell_type": "markdown",
      "source": [],
      "metadata": {
        "id": "TeE9iQmx9isw"
      }
    },
    {
      "cell_type": "code",
      "source": [
        "tommy = Dog(breed='lab')\n",
        "tison = Dog(breed='huskie')"
      ],
      "metadata": {
        "id": "N5bxe2177Xzf"
      },
      "execution_count": 6,
      "outputs": []
    },
    {
      "cell_type": "code",
      "source": [
        "tommy.breed"
      ],
      "metadata": {
        "colab": {
          "base_uri": "https://localhost:8080/",
          "height": 35
        },
        "id": "wN3l4wxb8b9j",
        "outputId": "93b4fe1c-0e42-4548-ed15-54ffc1059afe"
      },
      "execution_count": 7,
      "outputs": [
        {
          "output_type": "execute_result",
          "data": {
            "text/plain": [
              "'lab'"
            ],
            "application/vnd.google.colaboratory.intrinsic+json": {
              "type": "string"
            }
          },
          "metadata": {},
          "execution_count": 7
        }
      ]
    },
    {
      "cell_type": "code",
      "source": [
        "tison.breed"
      ],
      "metadata": {
        "colab": {
          "base_uri": "https://localhost:8080/",
          "height": 35
        },
        "id": "MeU5ZEmF8sXo",
        "outputId": "be9ce84e-cf09-4960-9b5f-3dd2a9c63fbc"
      },
      "execution_count": 8,
      "outputs": [
        {
          "output_type": "execute_result",
          "data": {
            "text/plain": [
              "'huskie'"
            ],
            "application/vnd.google.colaboratory.intrinsic+json": {
              "type": "string"
            }
          },
          "metadata": {},
          "execution_count": 8
        }
      ]
    },
    {
      "cell_type": "code",
      "source": [
        "class Dog:\n",
        "  species = 'Mamal'\n",
        "  def __init__(self, breed,name):\n",
        "    self.breed = breed\n",
        "    self.name = name"
      ],
      "metadata": {
        "id": "Cs9ZYywy8waX"
      },
      "execution_count": 16,
      "outputs": []
    },
    {
      "cell_type": "code",
      "source": [
        "my_dog = Dog('lab','Jerry')"
      ],
      "metadata": {
        "id": "GS-ijLv29yJX"
      },
      "execution_count": 10,
      "outputs": []
    },
    {
      "cell_type": "code",
      "source": [
        "my_dog.name"
      ],
      "metadata": {
        "colab": {
          "base_uri": "https://localhost:8080/",
          "height": 35
        },
        "id": "9DKpMzof-G-T",
        "outputId": "71b874b4-a6cc-4360-db94-d620dd41fb24"
      },
      "execution_count": 11,
      "outputs": [
        {
          "output_type": "execute_result",
          "data": {
            "text/plain": [
              "'Jerry'"
            ],
            "application/vnd.google.colaboratory.intrinsic+json": {
              "type": "string"
            }
          },
          "metadata": {},
          "execution_count": 11
        }
      ]
    },
    {
      "cell_type": "code",
      "source": [
        "my_dog.breed"
      ],
      "metadata": {
        "colab": {
          "base_uri": "https://localhost:8080/",
          "height": 35
        },
        "id": "tmpsk0iD-J6w",
        "outputId": "a7e137fc-73a6-44df-e370-3e6b0859c988"
      },
      "execution_count": 12,
      "outputs": [
        {
          "output_type": "execute_result",
          "data": {
            "text/plain": [
              "'lab'"
            ],
            "application/vnd.google.colaboratory.intrinsic+json": {
              "type": "string"
            }
          },
          "metadata": {},
          "execution_count": 12
        }
      ]
    },
    {
      "cell_type": "code",
      "source": [],
      "metadata": {
        "id": "TsUfDzYp-NZO"
      },
      "execution_count": 26,
      "outputs": []
    },
    {
      "cell_type": "code",
      "source": [
        "class circle:\n",
        "  pi = 3.14\n",
        "  def __init__(self,radius=1):\n",
        "    self.radius = radius\n",
        "    self.area = area = radius*radius*circle.pi\n",
        "\n",
        "  def setRadius(self,new_radius):\n",
        "    self.radius = new_radius\n",
        "    self.area = new_radius * new_radius * self.pi\n",
        "\n",
        "  def getcircumference(self):\n",
        "    return self.radius * self.pi * 2"
      ],
      "metadata": {
        "id": "zTvR2vOR-gMD"
      },
      "execution_count": 2,
      "outputs": []
    },
    {
      "cell_type": "code",
      "source": [
        "c1 = circle()\n",
        "print('The Radius is: ', c1.radius)\n",
        "print('The Area is: ', c1.area)\n",
        "print('The Circumference is: ', c1.getcircumference())"
      ],
      "metadata": {
        "colab": {
          "base_uri": "https://localhost:8080/"
        },
        "id": "GBkOAzDmA9hL",
        "outputId": "ebace443-0284-4261-f24e-4125e4237795"
      },
      "execution_count": 3,
      "outputs": [
        {
          "output_type": "stream",
          "name": "stdout",
          "text": [
            "The Radius is:  1\n",
            "The Area is:  3.14\n",
            "The Circumference is:  6.28\n"
          ]
        }
      ]
    },
    {
      "cell_type": "code",
      "source": [
        "c1.setRadius(4)\n",
        "print('The Radius is: ', c1.radius)\n",
        "print('The Area is: ', c1.area)\n",
        "print('The Circumference is: ', c1.getcircumference())"
      ],
      "metadata": {
        "colab": {
          "base_uri": "https://localhost:8080/"
        },
        "id": "2jjtqtRKBB9F",
        "outputId": "e406c7f2-fd97-4053-b1cf-9ad23f376a90"
      },
      "execution_count": 4,
      "outputs": [
        {
          "output_type": "stream",
          "name": "stdout",
          "text": [
            "The Radius is:  4\n",
            "The Area is:  50.24\n",
            "The Circumference is:  25.12\n"
          ]
        }
      ]
    },
    {
      "cell_type": "code",
      "source": [
        "class track:\n",
        "  def __init__(self, coor1,coor2):\n",
        "    self.coor1 = coor1\n",
        "    self.coor2 = coor2\n",
        "\n",
        "\n",
        "  def distance(self):\n",
        "    x1,y1 = self.coor1\n",
        "    x2,y2 = self.coor2\n",
        "    return ((x2 - x1)**2 + (y2 - y1)**2)**0.5\n",
        "\n",
        "\n",
        "  def slope(self):\n",
        "    x1,y1 = self.coor1\n",
        "    x2,y2 = self.coor2\n",
        "    return (y2 - y1)/(x2 - x1)\n"
      ],
      "metadata": {
        "id": "uhGPJa0OCCio"
      },
      "execution_count": 9,
      "outputs": []
    },
    {
      "cell_type": "code",
      "source": [
        "c1 = (12,9)\n",
        "c2 = (3,8)"
      ],
      "metadata": {
        "id": "fV7KXuE8FJNF"
      },
      "execution_count": 10,
      "outputs": []
    },
    {
      "cell_type": "code",
      "source": [
        "find = track(c1,c2)"
      ],
      "metadata": {
        "id": "5qbbPV3iFhBt"
      },
      "execution_count": 11,
      "outputs": []
    },
    {
      "cell_type": "code",
      "source": [
        "find.distance()"
      ],
      "metadata": {
        "colab": {
          "base_uri": "https://localhost:8080/"
        },
        "id": "4aae8iSVFoA1",
        "outputId": "954c2b89-218f-4d79-ba8f-f30dd6e0b30d"
      },
      "execution_count": 12,
      "outputs": [
        {
          "output_type": "execute_result",
          "data": {
            "text/plain": [
              "9.055385138137417"
            ]
          },
          "metadata": {},
          "execution_count": 12
        }
      ]
    },
    {
      "cell_type": "code",
      "source": [
        "find.slope()"
      ],
      "metadata": {
        "colab": {
          "base_uri": "https://localhost:8080/"
        },
        "id": "6MkWwbhcFreV",
        "outputId": "280a67ce-869e-4334-e042-49286ec12913"
      },
      "execution_count": 13,
      "outputs": [
        {
          "output_type": "execute_result",
          "data": {
            "text/plain": [
              "0.1111111111111111"
            ]
          },
          "metadata": {},
          "execution_count": 13
        }
      ]
    },
    {
      "cell_type": "code",
      "source": [
        "class Account:\n",
        "  def __init__(self,owner,balance=0):\n",
        "    self.owner = owner\n",
        "    self.balance = balance\n",
        "\n",
        "\n",
        "  def __str__(self):\n",
        "    return f'Account Owner:         {self.owner}\\nAccount balance:       ${self.balance}'\n",
        "\n",
        "\n",
        "  def deposit(self,dep_amt):\n",
        "    self.balance += dep_amt\n",
        "    print(\"Deposit Accepted\")\n",
        "\n",
        "\n",
        "  def withdraw(self,wd_amt):\n",
        "    if self.balance>= wd_amt:\n",
        "      self.balance -= wd_amt\n",
        "      print(\"Withdraw Accepted\")\n",
        "\n",
        "    else:\n",
        "      print(\"Funds Unavailable\")"
      ],
      "metadata": {
        "id": "4ovesEE5FviY"
      },
      "execution_count": 15,
      "outputs": []
    },
    {
      "cell_type": "code",
      "source": [
        "acc1 = Account('Sushil', 20000)"
      ],
      "metadata": {
        "id": "6IX0F2SSMMRN"
      },
      "execution_count": 16,
      "outputs": []
    },
    {
      "cell_type": "code",
      "source": [
        "print(acc1)"
      ],
      "metadata": {
        "colab": {
          "base_uri": "https://localhost:8080/"
        },
        "id": "FCmPnMFeMf6i",
        "outputId": "aae66256-47b2-46cf-a687-a89e44de623d"
      },
      "execution_count": 17,
      "outputs": [
        {
          "output_type": "stream",
          "name": "stdout",
          "text": [
            "Account Owner:         Sushil\n",
            "Account balance:       $20000\n"
          ]
        }
      ]
    },
    {
      "cell_type": "code",
      "source": [
        "acc1.owner"
      ],
      "metadata": {
        "colab": {
          "base_uri": "https://localhost:8080/",
          "height": 35
        },
        "id": "Je6q1i09MlCN",
        "outputId": "fb201d92-bd8c-4640-a207-1609a6cc7d4b"
      },
      "execution_count": 18,
      "outputs": [
        {
          "output_type": "execute_result",
          "data": {
            "text/plain": [
              "'Sushil'"
            ],
            "application/vnd.google.colaboratory.intrinsic+json": {
              "type": "string"
            }
          },
          "metadata": {},
          "execution_count": 18
        }
      ]
    },
    {
      "cell_type": "code",
      "source": [
        "acc1.balance"
      ],
      "metadata": {
        "colab": {
          "base_uri": "https://localhost:8080/"
        },
        "id": "dopBld3tMtaQ",
        "outputId": "284b077a-b831-4686-a77b-771f83e628f4"
      },
      "execution_count": 19,
      "outputs": [
        {
          "output_type": "execute_result",
          "data": {
            "text/plain": [
              "20000"
            ]
          },
          "metadata": {},
          "execution_count": 19
        }
      ]
    },
    {
      "cell_type": "code",
      "source": [
        "acc1.deposit(500)"
      ],
      "metadata": {
        "colab": {
          "base_uri": "https://localhost:8080/"
        },
        "id": "UrCWLztHMyXR",
        "outputId": "7e59770f-44b4-412d-8be7-df84304c38e9"
      },
      "execution_count": 20,
      "outputs": [
        {
          "output_type": "stream",
          "name": "stdout",
          "text": [
            "Deposit Accepted\n"
          ]
        }
      ]
    },
    {
      "cell_type": "code",
      "source": [
        "acc1.balance"
      ],
      "metadata": {
        "colab": {
          "base_uri": "https://localhost:8080/"
        },
        "id": "xcS49zi2M5Fz",
        "outputId": "bca43b71-42d0-45e6-84f8-f348725e6ff8"
      },
      "execution_count": 21,
      "outputs": [
        {
          "output_type": "execute_result",
          "data": {
            "text/plain": [
              "20500"
            ]
          },
          "metadata": {},
          "execution_count": 21
        }
      ]
    },
    {
      "cell_type": "code",
      "source": [
        "acc1.withdraw(30000)"
      ],
      "metadata": {
        "colab": {
          "base_uri": "https://localhost:8080/"
        },
        "id": "8msr-SFjM97Q",
        "outputId": "3d262453-3ef2-4fcb-cc5a-650f78c9242b"
      },
      "execution_count": 22,
      "outputs": [
        {
          "output_type": "stream",
          "name": "stdout",
          "text": [
            "Funds Unavailable\n"
          ]
        }
      ]
    },
    {
      "cell_type": "code",
      "source": [
        "acc1.withdraw(19000)"
      ],
      "metadata": {
        "colab": {
          "base_uri": "https://localhost:8080/"
        },
        "id": "gZ8firLSNH-O",
        "outputId": "426cc559-bcb7-4049-b014-fd7fd1ebb270"
      },
      "execution_count": 23,
      "outputs": [
        {
          "output_type": "stream",
          "name": "stdout",
          "text": [
            "Withdraw Accepted\n"
          ]
        }
      ]
    },
    {
      "cell_type": "code",
      "source": [
        "acc1.balance"
      ],
      "metadata": {
        "colab": {
          "base_uri": "https://localhost:8080/"
        },
        "id": "js1cZ1EENT5y",
        "outputId": "8ee0e331-ccf8-4254-8d4b-296cf11c8a6a"
      },
      "execution_count": 24,
      "outputs": [
        {
          "output_type": "execute_result",
          "data": {
            "text/plain": [
              "1500"
            ]
          },
          "metadata": {},
          "execution_count": 24
        }
      ]
    },
    {
      "cell_type": "code",
      "source": [],
      "metadata": {
        "id": "RxQ59yTuNWHH"
      },
      "execution_count": null,
      "outputs": []
    }
  ]
}